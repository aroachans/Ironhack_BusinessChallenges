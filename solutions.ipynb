{
 "cells": [
  {
   "cell_type": "code",
   "execution_count": null,
   "id": "e57415e2-0467-4a54-a5df-189b08cca241",
   "metadata": {},
   "outputs": [],
   "source": [
    "## Business Challenge: Identify Profitable Investment Opportunities\n",
    "\n",
    "# Welcome message\n",
    "print(\"Welcome to the Investment Opportunity Analyzer!\")\n",
    "\n",
    "# Input validation using a while loop\n",
    "num_opportunities = int(input(\"Please enter the number of investment opportunities: \"))\n",
    "profit_margin = float(input(\"Please enter the minimum acceptable profit margin (as a percentage): \"))\n",
    "\n",
    "# Initialize a list to store profitable opportunities\n",
    "profitable_opportunities = []\n",
    "\n",
    "# Gather details for each investment opportunity\n",
    "for i in range(1, num_opportunities + 1):\n",
    "    print(f\"\\nEnter details for investment opportunity {i}:\")\n",
    "    investment_name = input(\"Investment Name: \")\n",
    "    investment_margin = float(input(\"Profit Margin (as a percentage): \"))\n",
    "    \n",
    "    # Check if the profit margin meets or exceeds the minimum acceptable margin\n",
    "    if investment_margin >= profit_margin:\n",
    "        profitable_opportunities.append(investment_name)\n",
    "\n",
    "# Print profitable investment opportunities\n",
    "if profitable_opportunities:\n",
    "    print(\"\\nProfitable investment opportunities (with a profit margin of \"\n",
    "          f\"{profit_margin}% or higher):\")\n",
    "    for idx, opportunity in enumerate(profitable_opportunities, start=1):\n",
    "        print(f\"{idx}. {opportunity}\")\n",
    "else:\n",
    "    print(\"\\nNo profitable investment opportunities found.\")"
   ]
  }
 ],
 "metadata": {
  "kernelspec": {
   "display_name": "Python 3 (ipykernel)",
   "language": "python",
   "name": "python3"
  },
  "language_info": {
   "codemirror_mode": {
    "name": "ipython",
    "version": 3
   },
   "file_extension": ".py",
   "mimetype": "text/x-python",
   "name": "python",
   "nbconvert_exporter": "python",
   "pygments_lexer": "ipython3",
   "version": "3.10.12"
  }
 },
 "nbformat": 4,
 "nbformat_minor": 5
}
