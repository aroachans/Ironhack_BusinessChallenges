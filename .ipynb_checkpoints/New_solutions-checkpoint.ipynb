{
 "cells": [
  {
   "cell_type": "code",
   "execution_count": null,
   "id": "ea557241-8592-4189-b80d-390fbdedfc21",
   "metadata": {},
   "outputs": [],
   "source": [
    "#Celda para mí"
   ]
  },
  {
   "cell_type": "code",
   "execution_count": 1,
   "id": "b1ac9f29-079a-4c2b-9a94-9f196dc7711c",
   "metadata": {},
   "outputs": [],
   "source": [
    "#Celda para Aroa"
   ]
  }
 ],
 "metadata": {
  "kernelspec": {
   "display_name": "Python 3 (ipykernel)",
   "language": "python",
   "name": "python3"
  },
  "language_info": {
   "codemirror_mode": {
    "name": "ipython",
    "version": 3
   },
   "file_extension": ".py",
   "mimetype": "text/x-python",
   "name": "python",
   "nbconvert_exporter": "python",
   "pygments_lexer": "ipython3",
   "version": "3.10.12"
  }
 },
 "nbformat": 4,
 "nbformat_minor": 5
}
